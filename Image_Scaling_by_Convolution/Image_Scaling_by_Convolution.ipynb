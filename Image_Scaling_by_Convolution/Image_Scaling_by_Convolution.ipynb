{
  "nbformat": 4,
  "nbformat_minor": 0,
  "metadata": {
    "colab": {
      "provenance": []
    },
    "kernelspec": {
      "name": "python3",
      "display_name": "Python 3"
    },
    "language_info": {
      "name": "python"
    }
  },
  "cells": [
    {
      "cell_type": "markdown",
      "source": [
        "<h1>Zero Order Hold Convolution</h1>"
      ],
      "metadata": {
        "id": "v4QPjQL5V_Tm"
      }
    },
    {
      "cell_type": "code",
      "source": [
        "import cv2\n",
        "import numpy as np\n",
        "from google.colab.patches import cv2_imshow\n",
        "\n",
        "\n",
        "def apply_padding_2(input_array, mask_size):\n",
        "    pad_size = mask_size // 2\n",
        "    input_height, input_width = input_array.shape\n",
        "    padded_height = input_height + 2 * pad_size\n",
        "    padded_width = input_width + 2 * pad_size\n",
        "    padded_array = np.zeros((padded_height, padded_width), dtype=input_array.dtype)\n",
        "    padded_array[pad_size:pad_size+input_height, pad_size:pad_size+input_width] = input_array\n",
        "    return padded_array\n",
        "\n",
        "def zero_order_hold_convolution(input_array, factor=2):\n",
        "    mask = np.array([[1,1],\n",
        "                     [1,1]])\n",
        "    input_height, input_width = input_array.shape\n",
        "    zoom_height = factor * input_height -1\n",
        "    zoom_width = factor * input_width -1\n",
        "    output_array = np.zeros((zoom_height, zoom_width), dtype=np.float32)\n",
        "    output_array[::2, ::2] = input_array\n",
        "    print(\"\\n\\n The Original image Array with inserted Zeroes : - \\n\\n\", output_array)\n",
        "    conv_result = apply_padding_2(output_array, mask.shape[0])\n",
        "    print(\"\\n\\n The Original image Array with padding : - \\n\\n\", conv_result)\n",
        "    buffer = np.zeros((zoom_height, zoom_width), dtype=np.float32)\n",
        "    for i in range(conv_result.shape[0]-2):\n",
        "        for j in range(conv_result.shape[1]-2):\n",
        "              buffer[i, j] = np.sum(mask * conv_result[i:i+2, j:j+2])\n",
        "    return buffer\n",
        "\n",
        "\n",
        "image = cv2.imread('Nemo_sm.PNG', cv2.IMREAD_GRAYSCALE)\n",
        "if image is not None:\n",
        "    image_array = np.array(image)\n",
        "    print(\"The Image Array\\n \",image_array,'\\n\\n\\n')\n",
        "    convolved_image = (zero_order_hold_convolution(image_array, 2))\n",
        "    print(\"\\n\\nThe Enlarged Image Array  :-  \\n\\n\", convolved_image)\n",
        "    print(\"\\n\\nThe Original Image :-\\n\\n\\n\")\n",
        "    cv2_imshow(image)\n",
        "    print(\"\\n\\nThe Enlarged Image :-\\n\\n\\n\")\n",
        "    cv2_imshow(convolved_image)\n",
        "else:\n",
        "    print(\"Failed to load the image.\")"
      ],
      "metadata": {
        "id": "1SDqTyJRQH7c",
        "colab": {
          "base_uri": "https://localhost:8080/",
          "height": 1000
        },
        "outputId": "135f8ff4-1d1e-4d0a-f13a-edcbb18658d8"
      },
      "execution_count": null,
      "outputs": [
        {
          "output_type": "stream",
          "name": "stdout",
          "text": [
            "The Image Array\n",
            "  [[157 157 157 ... 157 157 157]\n",
            " [157 157 157 ... 157 157 157]\n",
            " [157 157 157 ... 157 157 157]\n",
            " ...\n",
            " [116 116 117 ... 155 131 134]\n",
            " [116 116 116 ... 137 134 130]\n",
            " [115 115 115 ...  66 160 169]] \n",
            "\n",
            "\n",
            "\n",
            "\n",
            "\n",
            " The Original image Array with inserted Zeroes : - \n",
            "\n",
            " [[157.   0. 157. ... 157.   0. 157.]\n",
            " [  0.   0.   0. ...   0.   0.   0.]\n",
            " [157.   0. 157. ... 157.   0. 157.]\n",
            " ...\n",
            " [116.   0. 116. ... 134.   0. 130.]\n",
            " [  0.   0.   0. ...   0.   0.   0.]\n",
            " [115.   0. 115. ... 160.   0. 169.]]\n",
            "\n",
            "\n",
            " The Original image Array with padding : - \n",
            "\n",
            " [[  0.   0.   0. ...   0.   0.   0.]\n",
            " [  0. 157.   0. ...   0. 157.   0.]\n",
            " [  0.   0.   0. ...   0.   0.   0.]\n",
            " ...\n",
            " [  0.   0.   0. ...   0.   0.   0.]\n",
            " [  0. 115.   0. ...   0. 169.   0.]\n",
            " [  0.   0.   0. ...   0.   0.   0.]]\n",
            "\n",
            "\n",
            "The Enlarged Image Array  :-  \n",
            "\n",
            " [[157. 157. 157. ... 157. 157. 157.]\n",
            " [157. 157. 157. ... 157. 157. 157.]\n",
            " [157. 157. 157. ... 157. 157. 157.]\n",
            " ...\n",
            " [116. 116. 116. ... 134. 134. 130.]\n",
            " [116. 116. 116. ... 134. 134. 130.]\n",
            " [115. 115. 115. ... 160. 160. 169.]]\n",
            "\n",
            "\n",
            "The Original Image :-\n",
            "\n",
            "\n",
            "\n"
          ]
        },
        {
          "output_type": "display_data",
          "data": {
            "text/plain": [
              "<PIL.Image.Image image mode=L size=108x87>"
            ],
            "image/png": "[encoded data removed]"
          },
          "metadata": {}
        },
        {
          "output_type": "stream",
          "name": "stdout",
          "text": [
            "\n",
            "\n",
            "The Enlarged Image :-\n",
            "\n",
            "\n",
            "\n"
          ]
        },
        {
          "output_type": "display_data",
          "data": {
            "text/plain": [
              "<PIL.Image.Image image mode=L size=215x173>"
            ],
            "image/png": "[encoded data removed]"
          },
          "metadata": {}
        }
      ]
    },
    {
      "cell_type": "markdown",
      "source": [
        "<h1>First Order Hold Convolution</h1>"
      ],
      "metadata": {
        "id": "0TqGJok5WFoY"
      }
    },
    {
      "cell_type": "code",
      "source": [
        "import numpy as np\n",
        "import cv2\n",
        "import numpy as np\n",
        "from google.colab.patches import cv2_imshow\n",
        "\n",
        "def apply_padding(input_array, mask_size):\n",
        "    if mask_size % 2 == 0:\n",
        "        raise ValueError(\"Mask size must be an odd number.\")\n",
        "    pad_size = mask_size // 2\n",
        "    input_height, input_width = input_array.shape\n",
        "    padded_height = input_height + 2 * pad_size\n",
        "    padded_width = input_width + 2 * pad_size\n",
        "    padded_array = np.zeros((padded_height, padded_width), dtype=input_array.dtype)\n",
        "    padded_array[pad_size:pad_size+input_height, pad_size:pad_size+input_width] = input_array\n",
        "    return padded_array\n",
        "\n",
        "\n",
        "def first_order_hold_convolution(input_array, factor=2, bands=1):\n",
        "    mask = np.array([[1/4, 1/2, 1/4],\n",
        "                     [1/2, 1, 1/2],\n",
        "                     [1/4, 1/2, 1/4]])\n",
        "    input_height, input_width = input_array.shape\n",
        "    zoom_height = factor * input_height -1\n",
        "    zoom_width = factor * input_width -1\n",
        "    output_array = np.zeros((zoom_height, zoom_width), dtype=np.float32)\n",
        "    output_array[::2, ::2] = input_array\n",
        "    print(\"\\n\\n The Original image Array with inserted Zeroes : - \\n\\n\", output_array)\n",
        "    conv_result = apply_padding(output_array, mask.shape[0])\n",
        "    print(\"\\n\\n The Original image Array with padding : - \\n\\n\", conv_result)\n",
        "    buffer = np.zeros((zoom_height, zoom_width), dtype=np.float32)\n",
        "    for i in range(conv_result.shape[0]-2):\n",
        "        for j in range(conv_result.shape[1]-2):\n",
        "              buffer[i, j] = np.sum(mask * conv_result[i:i+3, j:j+3])\n",
        "    return buffer\n",
        "\n",
        "\n",
        "image = cv2.imread('Nemo_sm.PNG', cv2.IMREAD_GRAYSCALE)\n",
        "if image is not None:\n",
        "    image_array = np.array(image)\n",
        "    print(\"The Image Array\\n \",image_array,'\\n\\n\\n')\n",
        "    convolved_image = (first_order_hold_convolution(image_array, 2))\n",
        "    print(\"\\n\\nThe Enlarged Image Array  :-  \\n\\n\", convolved_image)\n",
        "    print(\"\\n\\nThe Original Image :-\\n\\n\\n\")\n",
        "    cv2_imshow(image)\n",
        "    print(\"\\n\\nThe Enlarged Image :-\\n\\n\\n\")\n",
        "    cv2_imshow(convolved_image)\n",
        "else:\n",
        "    print(\"Failed to load the image.\")"
      ],
      "metadata": {
        "id": "BhMbrAvqi4KV",
        "colab": {
          "base_uri": "https://localhost:8080/",
          "height": 1000
        },
        "outputId": "1c08f0fa-3c19-4da8-ca82-a7f1f01524e3"
      },
      "execution_count": null,
      "outputs": [
        {
          "output_type": "stream",
          "name": "stdout",
          "text": [
            "The Image Array\n",
            "  [[157 157 157 ... 157 157 157]\n",
            " [157 157 157 ... 157 157 157]\n",
            " [157 157 157 ... 157 157 157]\n",
            " ...\n",
            " [116 116 117 ... 155 131 134]\n",
            " [116 116 116 ... 137 134 130]\n",
            " [115 115 115 ...  66 160 169]] \n",
            "\n",
            "\n",
            "\n",
            "\n",
            "\n",
            " The Original image Array with inserted Zeroes : - \n",
            "\n",
            " [[157.   0. 157. ... 157.   0. 157.]\n",
            " [  0.   0.   0. ...   0.   0.   0.]\n",
            " [157.   0. 157. ... 157.   0. 157.]\n",
            " ...\n",
            " [116.   0. 116. ... 134.   0. 130.]\n",
            " [  0.   0.   0. ...   0.   0.   0.]\n",
            " [115.   0. 115. ... 160.   0. 169.]]\n",
            "\n",
            "\n",
            " The Original image Array with padding : - \n",
            "\n",
            " [[  0.   0.   0. ...   0.   0.   0.]\n",
            " [  0. 157.   0. ...   0. 157.   0.]\n",
            " [  0.   0.   0. ...   0.   0.   0.]\n",
            " ...\n",
            " [  0.   0.   0. ...   0.   0.   0.]\n",
            " [  0. 115.   0. ...   0. 169.   0.]\n",
            " [  0.   0.   0. ...   0.   0.   0.]]\n",
            "\n",
            "\n",
            "The Enlarged Image Array  :-  \n",
            "\n",
            " [[157.   157.   157.   ... 157.   157.   157.  ]\n",
            " [157.   157.   157.   ... 157.   157.   157.  ]\n",
            " [157.   157.   157.   ... 157.   157.   157.  ]\n",
            " ...\n",
            " [116.   116.   116.   ... 134.   132.   130.  ]\n",
            " [115.5  115.5  115.5  ... 147.   148.25 149.5 ]\n",
            " [115.   115.   115.   ... 160.   164.5  169.  ]]\n",
            "\n",
            "\n",
            "The Original Image :-\n",
            "\n",
            "\n",
            "\n"
          ]
        },
        {
          "output_type": "display_data",
          "data": {
            "text/plain": [
              "<PIL.Image.Image image mode=L size=108x87>"
            ],
            "image/png": "[encoded data removed]"
          },
          "metadata": {}
        },
        {
          "output_type": "stream",
          "name": "stdout",
          "text": [
            "\n",
            "\n",
            "The Enlarged Image :-\n",
            "\n",
            "\n",
            "\n"
          ]
        },
        {
          "output_type": "display_data",
          "data": {
            "text/plain": [
              "<PIL.Image.Image image mode=L size=215x173>"
            ],
            "image/png": "[encoded data removed]"
          },
          "metadata": {}
        }
      ]
    },
    {
      "cell_type": "markdown",
      "source": [
        "<h1>Arbitrary Order Hold Convolution</h1>"
      ],
      "metadata": {
        "id": "ytfUrq6CWIqF"
      }
    },
    {
      "cell_type": "code",
      "source": [
        "import numpy as np\n",
        "import cv2\n",
        "from google.colab.patches import cv2_imshow\n",
        "\n",
        "\n",
        "def Row_wise_interpolation(H,W,OG_image,interpolated_image,K_factor) :\n",
        "  for i in range(H):\n",
        "        for j in range(W - 1):\n",
        "\n",
        "            #Assiging Adjacent Pixels\n",
        "            Cpx = int(OG_image[i, j])      #P1\n",
        "            Npx = int(OG_image[i, j + 1])  #P2\n",
        "\n",
        "            #Subtracting\n",
        "            diff = Npx- Cpx\n",
        "            div = diff / K_factor\n",
        "\n",
        "            # Interpolated Pizel Addtion Loop\n",
        "            for k in range(K_factor):\n",
        "                interpolated_value = int(Cpx + div * k)\n",
        "                interpolated_image[i, j * K_factor + k] = interpolated_value\n",
        "\n",
        "        interpolated_image[i, (W - 1) * K_factor] = OG_image[i, W - 1]\n",
        "  return interpolated_image;\n",
        "\n",
        "\n",
        "def Col_wise_interpolation(H,interpolated_W,interpolated_rows,interpolated_image) :\n",
        "  #Interpolation of Columns\n",
        "    for j in range(interpolated_W):\n",
        "        for i in range(H - 1):\n",
        "\n",
        "            #Assiging Adjacent Pixels\n",
        "            Cpx = int(interpolated_rows[i, j]) #P1\n",
        "            Npx = int(interpolated_rows[i + 1, j]) #P2\n",
        "\n",
        "            #Subtracting\n",
        "            diff = Npx - Cpx\n",
        "            div= diff / K_factor\n",
        "\n",
        "            # Interpolated Pizel Addtion Loop\n",
        "            for k in range(K_factor):\n",
        "                interpolated_value = int(Cpx + div * k)\n",
        "                interpolated_image[i * K_factor + k, j] = interpolated_value\n",
        "\n",
        "\n",
        "        interpolated_image[(H - 1) * K_factor, j] = interpolated_rows[H-1,j]\n",
        "\n",
        "    return interpolated_image\n",
        "\n",
        "\n",
        "\n",
        "def Arbitrary_Interpolation(OG_image, K_factor):\n",
        "    #Calculating Height and Width of The imaghe\n",
        "    H = len(OG_image)\n",
        "    W = len(OG_image[0])\n",
        "\n",
        "    #Interpolated_image_height_and_width\n",
        "    interpolated_H = int((K_factor*(H-1)) +1)\n",
        "    interpolated_W = int((K_factor*(W-1)) +1)\n",
        "\n",
        "    #Np array buffer\n",
        "    interpolated_image = np.zeros((interpolated_H, interpolated_W))\n",
        "\n",
        "\n",
        "\n",
        "    interpolated_image = Row_wise_interpolation(H,W,OG_image, interpolated_image,K_factor)\n",
        "    interpolated_rows = np.array(interpolated_image)\n",
        "    interpolated_image = Col_wise_interpolation(H,interpolated_W,interpolated_rows,interpolated_image)\n",
        "\n",
        "\n",
        "    return interpolated_image\n",
        "\n",
        "#image loading\n",
        "image = cv2.imread('Nemo_sm.PNG', cv2.IMREAD_GRAYSCALE)\n",
        "if image is not None:\n",
        "    image_array = np.array(image)\n",
        "    OG_image= image_array\n",
        "    print(OG_image)\n",
        "    print(\"Original Image:-\\n\")\n",
        "    cv2_imshow(image)\n",
        "    #Assgin K factor\n",
        "    K_factor = 3\n",
        "    interpolated_image = Arbitrary_Interpolation(OG_image, K_factor)\n",
        "    cv2_imshow(interpolated_image)\n",
        "else:\n",
        "    print(\"Failed to load the image.\")"
      ],
      "metadata": {
        "colab": {
          "base_uri": "https://localhost:8080/",
          "height": 519
        },
        "id": "fSEKCKZrV-RU",
        "outputId": "9b65dbf2-4b12-437b-e4e5-906a8fb3e0ec"
      },
      "execution_count": null,
      "outputs": [
        {
          "output_type": "stream",
          "name": "stdout",
          "text": [
            "[[157 157 157 ... 157 157 157]\n",
            " [157 157 157 ... 157 157 157]\n",
            " [157 157 157 ... 157 157 157]\n",
            " ...\n",
            " [116 116 117 ... 155 131 134]\n",
            " [116 116 116 ... 137 134 130]\n",
            " [115 115 115 ...  66 160 169]]\n",
            "Original Image:-\n",
            "\n"
          ]
        },
        {
          "output_type": "display_data",
          "data": {
            "text/plain": [
              "<PIL.Image.Image image mode=L size=108x87>"
            ],
            "image/png": "[encoded data removed]"
          },
          "metadata": {}
        },
        {
          "output_type": "display_data",
          "data": {
            "text/plain": [
              "<PIL.Image.Image image mode=L size=322x259>"
            ],
            "image/png": "[encoded data removed]"
          },
          "metadata": {}
        }
      ]
    }
  ]
}